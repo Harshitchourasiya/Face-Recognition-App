{
 "cells": [
  {
   "cell_type": "code",
   "execution_count": 1,
   "metadata": {},
   "outputs": [],
   "source": [
    "import cv2\n",
    "import numpy as np\n",
    "\n",
    "faceDetect=cv2.CascadeClassifier('haarcascade_frontalface_default.xml');\n",
    "cam=cv2.VideoCapture(0);\n",
    "recognizer=cv2.face.LBPHFaceRecognizer_create();\n",
    "recognizer.read(\"recognizer\\\\trainingData.yml\")\n",
    "id=0\n",
    "#font=cv2.cv.InitFont(cv2.cv.CV_FONT_HERSHEY_COMPLEX_SMALL,1,1,0,1)\n",
    "font=cv2.FONT_HERSHEY_SIMPLEX\n",
    "\n",
    "while(True):\n",
    "    ret,img=cam.read()\n",
    "    gray=cv2.cvtColor(img,cv2.COLOR_BGR2GRAY)\n",
    "    faces=faceDetect.detectMultiScale(gray,1.3,5);\n",
    "    \n",
    "    for(x,y,w,h) in faces:\n",
    "        cv2.rectangle(img,(x,y),(x+w,y+h),(0,255,0),2)\n",
    "        id,conf=recognizer.predict(gray[y:y+h,x:x+w])\n",
    "        if id==1:\n",
    "            id=\"Shruti\"\n",
    "        elif id==2:\n",
    "            id=\"Abhishek\"\n",
    "        elif id==3:\n",
    "            id=\"Rekha\" \n",
    "        elif id==4:\n",
    "            id=\"Puneet\" \n",
    "        elif id==5:\n",
    "            id=\"Megha\"  \n",
    "        elif id==6:\n",
    "            id=\"Ajay\"\n",
    "        elif id==7:\n",
    "            id=\"Deepak\"  \n",
    "        elif id==8:\n",
    "            id=\"Ashu\" \n",
    "        elif id==9:\n",
    "            id=\"Pinku\"\n",
    "        elif id==10:\n",
    "            id=\"Vaidehi\" \n",
    "        elif id==11:\n",
    "            id=\"Nainshri\" \n",
    "        elif id==12:\n",
    "            id=\"Harshit\"     \n",
    "            \n",
    "              \n",
    "        cv2.putText(img,str(id),(x,y+h),font,2,255,2)\n",
    "    cv2.imshow(\"face\",img)\n",
    "    \n",
    "    if cv2.waitKey(1) & 0xFF == ord('q'):\n",
    "        break;\n",
    "    \n",
    "cam.release()\n",
    "cv2.destroyAllWindows()"
   ]
  },
  {
   "cell_type": "code",
   "execution_count": null,
   "metadata": {},
   "outputs": [],
   "source": []
  },
  {
   "cell_type": "code",
   "execution_count": null,
   "metadata": {},
   "outputs": [],
   "source": []
  }
 ],
 "metadata": {
  "kernelspec": {
   "display_name": "Python 3",
   "language": "python",
   "name": "python3"
  },
  "language_info": {
   "codemirror_mode": {
    "name": "ipython",
    "version": 3
   },
   "file_extension": ".py",
   "mimetype": "text/x-python",
   "name": "python",
   "nbconvert_exporter": "python",
   "pygments_lexer": "ipython3",
   "version": "3.6.5"
  }
 },
 "nbformat": 4,
 "nbformat_minor": 2
}
